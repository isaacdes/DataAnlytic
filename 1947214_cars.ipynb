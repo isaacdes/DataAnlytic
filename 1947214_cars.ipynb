{
  "nbformat": 4,
  "nbformat_minor": 0,
  "metadata": {
    "colab": {
      "name": "1947214_cars.ipynb",
      "provenance": []
    },
    "kernelspec": {
      "name": "python3",
      "display_name": "Python 3"
    }
  },
  "cells": [
    {
      "cell_type": "markdown",
      "metadata": {
        "id": "snRvVMXVzRbP"
      },
      "source": [
        "**Exploratory Data Analysis**"
      ]
    },
    {
      "cell_type": "markdown",
      "metadata": {
        "id": "HLltjkTuxqFh"
      },
      "source": [
        "**1) Data Collection:**\n",
        "\n",
        "Dataset taken from kaggle about planes manufactured. Data set consists of numerical, string and decimal values."
      ]
    },
    {
      "cell_type": "markdown",
      "metadata": {
        "id": "ItwY1D0zzaBw"
      },
      "source": [
        "**2) Data Description:**\n",
        "\n",
        "Cars Data has Information about 3 brands/make of cars. Namely US, Japan, Europe. Target of the data set to find the brand of a car using the parameters such as horsepower, Cubic inches, Make year, etc.\n",
        "\n",
        "A decision tree can be used create a predictive data model to predict the car brand.\n"
      ]
    },
    {
      "cell_type": "markdown",
      "metadata": {
        "id": "yqqsiJgRzc4D"
      },
      "source": [
        "**3) Data Relation: Independent and Dependent analysis of features and samples**"
      ]
    },
    {
      "cell_type": "code",
      "metadata": {
        "colab": {
          "resources": {
            "http://localhost:8080/nbextensions/google.colab/files.js": {
              "data": "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",
              "ok": true,
              "headers": [
                [
                  "content-type",
                  "application/javascript"
                ]
              ],
              "status": 200,
              "status_text": ""
            }
          },
          "base_uri": "https://localhost:8080/",
          "height": 73
        },
        "id": "XmFlEo5OxIkE",
        "outputId": "8e6bf496-4463-4649-a576-28a9362d9486"
      },
      "source": [
        "from google.colab import files\r\n",
        "uploaded = files.upload()"
      ],
      "execution_count": 2,
      "outputs": [
        {
          "output_type": "display_data",
          "data": {
            "text/html": [
              "\n",
              "     <input type=\"file\" id=\"files-837218ae-719c-4d6d-bb6e-e6ff9bdffd30\" name=\"files[]\" multiple disabled\n",
              "        style=\"border:none\" />\n",
              "     <output id=\"result-837218ae-719c-4d6d-bb6e-e6ff9bdffd30\">\n",
              "      Upload widget is only available when the cell has been executed in the\n",
              "      current browser session. Please rerun this cell to enable.\n",
              "      </output>\n",
              "      <script src=\"/nbextensions/google.colab/files.js\"></script> "
            ],
            "text/plain": [
              "<IPython.core.display.HTML object>"
            ]
          },
          "metadata": {
            "tags": []
          }
        },
        {
          "output_type": "stream",
          "text": [
            "Saving cars.csv to cars.csv\n"
          ],
          "name": "stdout"
        }
      ]
    },
    {
      "cell_type": "code",
      "metadata": {
        "colab": {
          "base_uri": "https://localhost:8080/",
          "height": 437
        },
        "id": "HXLpc6Dn0q0O",
        "outputId": "ea72ea3e-c19c-430d-e4f6-ebc66a0c57bd"
      },
      "source": [
        "import pandas as pd\n",
        "import numpy as np\n",
        "import matplotlib.pyplot as plt\n",
        "import seaborn as sns\n",
        "%matplotlib inline\n",
        "import warnings\n",
        "warnings.filterwarnings('ignore')\n",
        "import statsmodels.api as sm\n",
        "\n",
        "# Load data\n",
        "dat = pd.read_csv(\"cars.csv\")\n",
        "print(dat.shape)\n",
        "dat.head(100)"
      ],
      "execution_count": 3,
      "outputs": [
        {
          "output_type": "stream",
          "text": [
            "(261, 8)\n"
          ],
          "name": "stdout"
        },
        {
          "output_type": "execute_result",
          "data": {
            "text/html": [
              "<div>\n",
              "<style scoped>\n",
              "    .dataframe tbody tr th:only-of-type {\n",
              "        vertical-align: middle;\n",
              "    }\n",
              "\n",
              "    .dataframe tbody tr th {\n",
              "        vertical-align: top;\n",
              "    }\n",
              "\n",
              "    .dataframe thead th {\n",
              "        text-align: right;\n",
              "    }\n",
              "</style>\n",
              "<table border=\"1\" class=\"dataframe\">\n",
              "  <thead>\n",
              "    <tr style=\"text-align: right;\">\n",
              "      <th></th>\n",
              "      <th>mpg</th>\n",
              "      <th>cylinders</th>\n",
              "      <th>cubicinches</th>\n",
              "      <th>hp</th>\n",
              "      <th>weightlbs</th>\n",
              "      <th>time-to-60</th>\n",
              "      <th>year</th>\n",
              "      <th>brand</th>\n",
              "    </tr>\n",
              "  </thead>\n",
              "  <tbody>\n",
              "    <tr>\n",
              "      <th>0</th>\n",
              "      <td>14.0</td>\n",
              "      <td>8</td>\n",
              "      <td>350</td>\n",
              "      <td>165</td>\n",
              "      <td>4209</td>\n",
              "      <td>12</td>\n",
              "      <td>1972</td>\n",
              "      <td>US.</td>\n",
              "    </tr>\n",
              "    <tr>\n",
              "      <th>1</th>\n",
              "      <td>31.9</td>\n",
              "      <td>4</td>\n",
              "      <td>89</td>\n",
              "      <td>71</td>\n",
              "      <td>1925</td>\n",
              "      <td>14</td>\n",
              "      <td>1980</td>\n",
              "      <td>Europe.</td>\n",
              "    </tr>\n",
              "    <tr>\n",
              "      <th>2</th>\n",
              "      <td>17.0</td>\n",
              "      <td>8</td>\n",
              "      <td>302</td>\n",
              "      <td>140</td>\n",
              "      <td>3449</td>\n",
              "      <td>11</td>\n",
              "      <td>1971</td>\n",
              "      <td>US.</td>\n",
              "    </tr>\n",
              "    <tr>\n",
              "      <th>3</th>\n",
              "      <td>15.0</td>\n",
              "      <td>8</td>\n",
              "      <td>400</td>\n",
              "      <td>150</td>\n",
              "      <td>3761</td>\n",
              "      <td>10</td>\n",
              "      <td>1971</td>\n",
              "      <td>US.</td>\n",
              "    </tr>\n",
              "    <tr>\n",
              "      <th>4</th>\n",
              "      <td>30.5</td>\n",
              "      <td>4</td>\n",
              "      <td>98</td>\n",
              "      <td>63</td>\n",
              "      <td>2051</td>\n",
              "      <td>17</td>\n",
              "      <td>1978</td>\n",
              "      <td>US.</td>\n",
              "    </tr>\n",
              "    <tr>\n",
              "      <th>...</th>\n",
              "      <td>...</td>\n",
              "      <td>...</td>\n",
              "      <td>...</td>\n",
              "      <td>...</td>\n",
              "      <td>...</td>\n",
              "      <td>...</td>\n",
              "      <td>...</td>\n",
              "      <td>...</td>\n",
              "    </tr>\n",
              "    <tr>\n",
              "      <th>95</th>\n",
              "      <td>17.0</td>\n",
              "      <td>6</td>\n",
              "      <td>231</td>\n",
              "      <td>110</td>\n",
              "      <td>3907</td>\n",
              "      <td>21</td>\n",
              "      <td>1976</td>\n",
              "      <td>US.</td>\n",
              "    </tr>\n",
              "    <tr>\n",
              "      <th>96</th>\n",
              "      <td>12.0</td>\n",
              "      <td>8</td>\n",
              "      <td>350</td>\n",
              "      <td>180</td>\n",
              "      <td>4499</td>\n",
              "      <td>13</td>\n",
              "      <td>1974</td>\n",
              "      <td>US.</td>\n",
              "    </tr>\n",
              "    <tr>\n",
              "      <th>97</th>\n",
              "      <td>18.0</td>\n",
              "      <td>6</td>\n",
              "      <td>250</td>\n",
              "      <td>88</td>\n",
              "      <td>3139</td>\n",
              "      <td>15</td>\n",
              "      <td>1972</td>\n",
              "      <td>US.</td>\n",
              "    </tr>\n",
              "    <tr>\n",
              "      <th>98</th>\n",
              "      <td>18.2</td>\n",
              "      <td>8</td>\n",
              "      <td>318</td>\n",
              "      <td>135</td>\n",
              "      <td>3830</td>\n",
              "      <td>15</td>\n",
              "      <td>1980</td>\n",
              "      <td>US.</td>\n",
              "    </tr>\n",
              "    <tr>\n",
              "      <th>99</th>\n",
              "      <td>16.0</td>\n",
              "      <td>6</td>\n",
              "      <td>250</td>\n",
              "      <td>100</td>\n",
              "      <td>3781</td>\n",
              "      <td>17</td>\n",
              "      <td>1975</td>\n",
              "      <td>US.</td>\n",
              "    </tr>\n",
              "  </tbody>\n",
              "</table>\n",
              "<p>100 rows × 8 columns</p>\n",
              "</div>"
            ],
            "text/plain": [
              "     mpg   cylinders  cubicinches   hp  weightlbs   time-to-60   year     brand\n",
              "0   14.0           8          350  165       4209           12   1972       US.\n",
              "1   31.9           4           89   71       1925           14   1980   Europe.\n",
              "2   17.0           8          302  140       3449           11   1971       US.\n",
              "3   15.0           8          400  150       3761           10   1971       US.\n",
              "4   30.5           4           98   63       2051           17   1978       US.\n",
              "..   ...         ...          ...  ...        ...          ...    ...       ...\n",
              "95  17.0           6          231  110       3907           21   1976       US.\n",
              "96  12.0           8          350  180       4499           13   1974       US.\n",
              "97  18.0           6          250   88       3139           15   1972       US.\n",
              "98  18.2           8          318  135       3830           15   1980       US.\n",
              "99  16.0           6          250  100       3781           17   1975       US.\n",
              "\n",
              "[100 rows x 8 columns]"
            ]
          },
          "metadata": {
            "tags": []
          },
          "execution_count": 3
        }
      ]
    },
    {
      "cell_type": "markdown",
      "metadata": {
        "id": "Q5sXLgC62kSd"
      },
      "source": [
        "Data types of each attribute in the data set"
      ]
    },
    {
      "cell_type": "code",
      "metadata": {
        "colab": {
          "base_uri": "https://localhost:8080/"
        },
        "id": "cPs0DhP32m2F",
        "outputId": "d82a1347-8604-434d-9f98-857fb8bd9082"
      },
      "source": [
        "dat.dtypes"
      ],
      "execution_count": 4,
      "outputs": [
        {
          "output_type": "execute_result",
          "data": {
            "text/plain": [
              "mpg             float64\n",
              " cylinders        int64\n",
              " cubicinches     object\n",
              " hp               int64\n",
              " weightlbs       object\n",
              " time-to-60       int64\n",
              " year             int64\n",
              " brand           object\n",
              "dtype: object"
            ]
          },
          "metadata": {
            "tags": []
          },
          "execution_count": 4
        }
      ]
    },
    {
      "cell_type": "markdown",
      "metadata": {
        "id": "b1yqppKZ2rT-"
      },
      "source": [
        "%matplotlib inline -> sets the backend of matplotlib to the inline backend\n"
      ]
    },
    {
      "cell_type": "code",
      "metadata": {
        "colab": {
          "base_uri": "https://localhost:8080/",
          "height": 390
        },
        "id": "E06t-LnV2uwn",
        "outputId": "3f22c354-a8bc-40e9-8395-c5235c6e307e"
      },
      "source": [
        "dat.describe(include='all')\n"
      ],
      "execution_count": 5,
      "outputs": [
        {
          "output_type": "execute_result",
          "data": {
            "text/html": [
              "<div>\n",
              "<style scoped>\n",
              "    .dataframe tbody tr th:only-of-type {\n",
              "        vertical-align: middle;\n",
              "    }\n",
              "\n",
              "    .dataframe tbody tr th {\n",
              "        vertical-align: top;\n",
              "    }\n",
              "\n",
              "    .dataframe thead th {\n",
              "        text-align: right;\n",
              "    }\n",
              "</style>\n",
              "<table border=\"1\" class=\"dataframe\">\n",
              "  <thead>\n",
              "    <tr style=\"text-align: right;\">\n",
              "      <th></th>\n",
              "      <th>mpg</th>\n",
              "      <th>cylinders</th>\n",
              "      <th>cubicinches</th>\n",
              "      <th>hp</th>\n",
              "      <th>weightlbs</th>\n",
              "      <th>time-to-60</th>\n",
              "      <th>year</th>\n",
              "      <th>brand</th>\n",
              "    </tr>\n",
              "  </thead>\n",
              "  <tbody>\n",
              "    <tr>\n",
              "      <th>count</th>\n",
              "      <td>261.000000</td>\n",
              "      <td>261.000000</td>\n",
              "      <td>261</td>\n",
              "      <td>261.000000</td>\n",
              "      <td>261</td>\n",
              "      <td>261.000000</td>\n",
              "      <td>261.000000</td>\n",
              "      <td>261</td>\n",
              "    </tr>\n",
              "    <tr>\n",
              "      <th>unique</th>\n",
              "      <td>NaN</td>\n",
              "      <td>NaN</td>\n",
              "      <td>75</td>\n",
              "      <td>NaN</td>\n",
              "      <td>240</td>\n",
              "      <td>NaN</td>\n",
              "      <td>NaN</td>\n",
              "      <td>3</td>\n",
              "    </tr>\n",
              "    <tr>\n",
              "      <th>top</th>\n",
              "      <td>NaN</td>\n",
              "      <td>NaN</td>\n",
              "      <td>97</td>\n",
              "      <td>NaN</td>\n",
              "      <td>2130</td>\n",
              "      <td>NaN</td>\n",
              "      <td>NaN</td>\n",
              "      <td>US.</td>\n",
              "    </tr>\n",
              "    <tr>\n",
              "      <th>freq</th>\n",
              "      <td>NaN</td>\n",
              "      <td>NaN</td>\n",
              "      <td>16</td>\n",
              "      <td>NaN</td>\n",
              "      <td>3</td>\n",
              "      <td>NaN</td>\n",
              "      <td>NaN</td>\n",
              "      <td>162</td>\n",
              "    </tr>\n",
              "    <tr>\n",
              "      <th>mean</th>\n",
              "      <td>23.144828</td>\n",
              "      <td>5.590038</td>\n",
              "      <td>NaN</td>\n",
              "      <td>106.360153</td>\n",
              "      <td>NaN</td>\n",
              "      <td>15.547893</td>\n",
              "      <td>1976.819923</td>\n",
              "      <td>NaN</td>\n",
              "    </tr>\n",
              "    <tr>\n",
              "      <th>std</th>\n",
              "      <td>7.823570</td>\n",
              "      <td>1.733310</td>\n",
              "      <td>NaN</td>\n",
              "      <td>40.499959</td>\n",
              "      <td>NaN</td>\n",
              "      <td>2.910625</td>\n",
              "      <td>3.637696</td>\n",
              "      <td>NaN</td>\n",
              "    </tr>\n",
              "    <tr>\n",
              "      <th>min</th>\n",
              "      <td>10.000000</td>\n",
              "      <td>3.000000</td>\n",
              "      <td>NaN</td>\n",
              "      <td>46.000000</td>\n",
              "      <td>NaN</td>\n",
              "      <td>8.000000</td>\n",
              "      <td>1971.000000</td>\n",
              "      <td>NaN</td>\n",
              "    </tr>\n",
              "    <tr>\n",
              "      <th>25%</th>\n",
              "      <td>16.900000</td>\n",
              "      <td>4.000000</td>\n",
              "      <td>NaN</td>\n",
              "      <td>75.000000</td>\n",
              "      <td>NaN</td>\n",
              "      <td>14.000000</td>\n",
              "      <td>1974.000000</td>\n",
              "      <td>NaN</td>\n",
              "    </tr>\n",
              "    <tr>\n",
              "      <th>50%</th>\n",
              "      <td>22.000000</td>\n",
              "      <td>6.000000</td>\n",
              "      <td>NaN</td>\n",
              "      <td>95.000000</td>\n",
              "      <td>NaN</td>\n",
              "      <td>16.000000</td>\n",
              "      <td>1977.000000</td>\n",
              "      <td>NaN</td>\n",
              "    </tr>\n",
              "    <tr>\n",
              "      <th>75%</th>\n",
              "      <td>28.800000</td>\n",
              "      <td>8.000000</td>\n",
              "      <td>NaN</td>\n",
              "      <td>138.000000</td>\n",
              "      <td>NaN</td>\n",
              "      <td>17.000000</td>\n",
              "      <td>1980.000000</td>\n",
              "      <td>NaN</td>\n",
              "    </tr>\n",
              "    <tr>\n",
              "      <th>max</th>\n",
              "      <td>46.600000</td>\n",
              "      <td>8.000000</td>\n",
              "      <td>NaN</td>\n",
              "      <td>230.000000</td>\n",
              "      <td>NaN</td>\n",
              "      <td>25.000000</td>\n",
              "      <td>1983.000000</td>\n",
              "      <td>NaN</td>\n",
              "    </tr>\n",
              "  </tbody>\n",
              "</table>\n",
              "</div>"
            ],
            "text/plain": [
              "               mpg   cylinders  cubicinches  ...   time-to-60         year   brand\n",
              "count   261.000000  261.000000          261  ...   261.000000   261.000000     261\n",
              "unique         NaN         NaN           75  ...          NaN          NaN       3\n",
              "top            NaN         NaN           97  ...          NaN          NaN     US.\n",
              "freq           NaN         NaN           16  ...          NaN          NaN     162\n",
              "mean     23.144828    5.590038          NaN  ...    15.547893  1976.819923     NaN\n",
              "std       7.823570    1.733310          NaN  ...     2.910625     3.637696     NaN\n",
              "min      10.000000    3.000000          NaN  ...     8.000000  1971.000000     NaN\n",
              "25%      16.900000    4.000000          NaN  ...    14.000000  1974.000000     NaN\n",
              "50%      22.000000    6.000000          NaN  ...    16.000000  1977.000000     NaN\n",
              "75%      28.800000    8.000000          NaN  ...    17.000000  1980.000000     NaN\n",
              "max      46.600000    8.000000          NaN  ...    25.000000  1983.000000     NaN\n",
              "\n",
              "[11 rows x 8 columns]"
            ]
          },
          "metadata": {
            "tags": []
          },
          "execution_count": 5
        }
      ]
    },
    {
      "cell_type": "markdown",
      "metadata": {
        "id": "jE4BGvwM20rf"
      },
      "source": [
        "[print(dat.shape)] This gives the size of the data set"
      ]
    },
    {
      "cell_type": "markdown",
      "metadata": {
        "id": "d6lJI4K822_a"
      },
      "source": [
        "Splitting the dataset into independent values in a matrix form"
      ]
    },
    {
      "cell_type": "code",
      "metadata": {
        "colab": {
          "base_uri": "https://localhost:8080/"
        },
        "id": "O9A89sjW25nX",
        "outputId": "b937bef5-3946-4f3d-fdf5-0c3afe5ea0dd"
      },
      "source": [
        "X = dat.iloc[:, :-1].values\n",
        "print(X)"
      ],
      "execution_count": 6,
      "outputs": [
        {
          "output_type": "stream",
          "text": [
            "[[14.0 8 '350' ... '4209' 12 1972]\n",
            " [31.9 4 '89' ... '1925' 14 1980]\n",
            " [17.0 8 '302' ... '3449' 11 1971]\n",
            " ...\n",
            " [22.0 6 '232' ... '2835' 15 1983]\n",
            " [18.0 6 '232' ... '3288' 16 1972]\n",
            " [22.0 6 '250' ... '3353' 15 1977]]\n"
          ],
          "name": "stdout"
        }
      ]
    },
    {
      "cell_type": "markdown",
      "metadata": {
        "id": "Sz2qd4aZ27wr"
      },
      "source": [
        "Getting the dependent values"
      ]
    },
    {
      "cell_type": "code",
      "metadata": {
        "colab": {
          "base_uri": "https://localhost:8080/"
        },
        "id": "pjOqQReh2-XN",
        "outputId": "64b2fe74-8953-4aaa-c35d-412729283079"
      },
      "source": [
        "Y = dat.iloc[:,-1].values\n",
        "print(Y)"
      ],
      "execution_count": 7,
      "outputs": [
        {
          "output_type": "stream",
          "text": [
            "[' US.' ' Europe.' ' US.' ' US.' ' US.' ' US.' ' US.' ' US.' ' Europe.'\n",
            " ' Japan.' ' Japan.' ' Europe.' ' US.' ' US.' ' US.' ' US.' ' Japan.'\n",
            " ' US.' ' Japan.' ' Europe.' ' Japan.' ' Europe.' ' US.' ' US.' ' Japan.'\n",
            " ' Japan.' ' Japan.' ' US.' ' US.' ' US.' ' Japan.' ' US.' ' Japan.'\n",
            " ' US.' ' Japan.' ' US.' ' Europe.' ' Japan.' ' US.' ' US.' ' US.' ' US.'\n",
            " ' US.' ' US.' ' US.' ' Japan.' ' US.' ' US.' ' Europe.' ' US.' ' US.'\n",
            " ' Europe.' ' US.' ' Europe.' ' US.' ' US.' ' Japan.' ' US.' ' Europe.'\n",
            " ' US.' ' US.' ' Japan.' ' Japan.' ' Japan.' ' US.' ' US.' ' Europe.'\n",
            " ' Japan.' ' Europe.' ' US.' ' US.' ' US.' ' Japan.' ' Japan.' ' Europe.'\n",
            " ' US.' ' US.' ' Japan.' ' Europe.' ' Japan.' ' US.' ' US.' ' US.'\n",
            " ' Europe.' ' Europe.' ' Japan.' ' US.' ' US.' ' US.' ' US.' ' Japan.'\n",
            " ' Japan.' ' US.' ' US.' ' US.' ' US.' ' US.' ' US.' ' US.' ' US.' ' US.'\n",
            " ' US.' ' US.' ' US.' ' Japan.' ' US.' ' Europe.' ' Europe.' ' Europe.'\n",
            " ' US.' ' Japan.' ' Europe.' ' US.' ' Japan.' ' Europe.' ' US.' ' US.'\n",
            " ' US.' ' US.' ' US.' ' Europe.' ' Europe.' ' US.' ' US.' ' Europe.'\n",
            " ' US.' ' US.' ' US.' ' Europe.' ' US.' ' Europe.' ' US.' ' US.' ' US.'\n",
            " ' US.' ' US.' ' US.' ' US.' ' Europe.' ' Europe.' ' US.' ' Japan.'\n",
            " ' Japan.' ' Japan.' ' US.' ' Europe.' ' US.' ' US.' ' US.' ' US.'\n",
            " ' Japan.' ' Japan.' ' US.' ' US.' ' Europe.' ' US.' ' Japan.' ' Japan.'\n",
            " ' US.' ' Europe.' ' US.' ' US.' ' US.' ' US.' ' Europe.' ' US.' ' US.'\n",
            " ' US.' ' Japan.' ' US.' ' Japan.' ' Europe.' ' Europe.' ' US.' ' US.'\n",
            " ' Europe.' ' US.' ' US.' ' US.' ' Japan.' ' US.' ' Japan.' ' US.' ' US.'\n",
            " ' US.' ' US.' ' US.' ' US.' ' US.' ' US.' ' US.' ' US.' ' US.' ' US.'\n",
            " ' US.' ' Europe.' ' US.' ' Europe.' ' Europe.' ' Japan.' ' Europe.'\n",
            " ' US.' ' US.' ' US.' ' US.' ' US.' ' Japan.' ' US.' ' US.' ' Japan.'\n",
            " ' Japan.' ' US.' ' Japan.' ' Europe.' ' US.' ' Japan.' ' Japan.' ' US.'\n",
            " ' US.' ' US.' ' US.' ' Europe.' ' US.' ' Europe.' ' US.' ' Japan.' ' US.'\n",
            " ' Japan.' ' US.' ' US.' ' US.' ' US.' ' US.' ' US.' ' Europe.' ' Europe.'\n",
            " ' US.' ' US.' ' US.' ' US.' ' US.' ' US.' ' US.' ' Europe.' ' US.' ' US.'\n",
            " ' US.' ' Europe.' ' Japan.' ' US.' ' US.' ' Europe.' ' Europe.' ' US.'\n",
            " ' US.' ' Japan.' ' US.' ' Japan.' ' US.' ' US.' ' US.']\n"
          ],
          "name": "stdout"
        }
      ]
    },
    {
      "cell_type": "markdown",
      "metadata": {
        "id": "ENpV0lGb3C4M"
      },
      "source": [
        "4)**Data Pre-processing**\n",
        "\n",
        "i) Checking for missing values"
      ]
    },
    {
      "cell_type": "code",
      "metadata": {
        "colab": {
          "base_uri": "https://localhost:8080/",
          "height": 419
        },
        "id": "7l7lzL0P3GsF",
        "outputId": "57914ab0-f0ec-4e7a-da89-c70cc48b4a26"
      },
      "source": [
        "dat.isna()"
      ],
      "execution_count": 8,
      "outputs": [
        {
          "output_type": "execute_result",
          "data": {
            "text/html": [
              "<div>\n",
              "<style scoped>\n",
              "    .dataframe tbody tr th:only-of-type {\n",
              "        vertical-align: middle;\n",
              "    }\n",
              "\n",
              "    .dataframe tbody tr th {\n",
              "        vertical-align: top;\n",
              "    }\n",
              "\n",
              "    .dataframe thead th {\n",
              "        text-align: right;\n",
              "    }\n",
              "</style>\n",
              "<table border=\"1\" class=\"dataframe\">\n",
              "  <thead>\n",
              "    <tr style=\"text-align: right;\">\n",
              "      <th></th>\n",
              "      <th>mpg</th>\n",
              "      <th>cylinders</th>\n",
              "      <th>cubicinches</th>\n",
              "      <th>hp</th>\n",
              "      <th>weightlbs</th>\n",
              "      <th>time-to-60</th>\n",
              "      <th>year</th>\n",
              "      <th>brand</th>\n",
              "    </tr>\n",
              "  </thead>\n",
              "  <tbody>\n",
              "    <tr>\n",
              "      <th>0</th>\n",
              "      <td>False</td>\n",
              "      <td>False</td>\n",
              "      <td>False</td>\n",
              "      <td>False</td>\n",
              "      <td>False</td>\n",
              "      <td>False</td>\n",
              "      <td>False</td>\n",
              "      <td>False</td>\n",
              "    </tr>\n",
              "    <tr>\n",
              "      <th>1</th>\n",
              "      <td>False</td>\n",
              "      <td>False</td>\n",
              "      <td>False</td>\n",
              "      <td>False</td>\n",
              "      <td>False</td>\n",
              "      <td>False</td>\n",
              "      <td>False</td>\n",
              "      <td>False</td>\n",
              "    </tr>\n",
              "    <tr>\n",
              "      <th>2</th>\n",
              "      <td>False</td>\n",
              "      <td>False</td>\n",
              "      <td>False</td>\n",
              "      <td>False</td>\n",
              "      <td>False</td>\n",
              "      <td>False</td>\n",
              "      <td>False</td>\n",
              "      <td>False</td>\n",
              "    </tr>\n",
              "    <tr>\n",
              "      <th>3</th>\n",
              "      <td>False</td>\n",
              "      <td>False</td>\n",
              "      <td>False</td>\n",
              "      <td>False</td>\n",
              "      <td>False</td>\n",
              "      <td>False</td>\n",
              "      <td>False</td>\n",
              "      <td>False</td>\n",
              "    </tr>\n",
              "    <tr>\n",
              "      <th>4</th>\n",
              "      <td>False</td>\n",
              "      <td>False</td>\n",
              "      <td>False</td>\n",
              "      <td>False</td>\n",
              "      <td>False</td>\n",
              "      <td>False</td>\n",
              "      <td>False</td>\n",
              "      <td>False</td>\n",
              "    </tr>\n",
              "    <tr>\n",
              "      <th>...</th>\n",
              "      <td>...</td>\n",
              "      <td>...</td>\n",
              "      <td>...</td>\n",
              "      <td>...</td>\n",
              "      <td>...</td>\n",
              "      <td>...</td>\n",
              "      <td>...</td>\n",
              "      <td>...</td>\n",
              "    </tr>\n",
              "    <tr>\n",
              "      <th>256</th>\n",
              "      <td>False</td>\n",
              "      <td>False</td>\n",
              "      <td>False</td>\n",
              "      <td>False</td>\n",
              "      <td>False</td>\n",
              "      <td>False</td>\n",
              "      <td>False</td>\n",
              "      <td>False</td>\n",
              "    </tr>\n",
              "    <tr>\n",
              "      <th>257</th>\n",
              "      <td>False</td>\n",
              "      <td>False</td>\n",
              "      <td>False</td>\n",
              "      <td>False</td>\n",
              "      <td>False</td>\n",
              "      <td>False</td>\n",
              "      <td>False</td>\n",
              "      <td>False</td>\n",
              "    </tr>\n",
              "    <tr>\n",
              "      <th>258</th>\n",
              "      <td>False</td>\n",
              "      <td>False</td>\n",
              "      <td>False</td>\n",
              "      <td>False</td>\n",
              "      <td>False</td>\n",
              "      <td>False</td>\n",
              "      <td>False</td>\n",
              "      <td>False</td>\n",
              "    </tr>\n",
              "    <tr>\n",
              "      <th>259</th>\n",
              "      <td>False</td>\n",
              "      <td>False</td>\n",
              "      <td>False</td>\n",
              "      <td>False</td>\n",
              "      <td>False</td>\n",
              "      <td>False</td>\n",
              "      <td>False</td>\n",
              "      <td>False</td>\n",
              "    </tr>\n",
              "    <tr>\n",
              "      <th>260</th>\n",
              "      <td>False</td>\n",
              "      <td>False</td>\n",
              "      <td>False</td>\n",
              "      <td>False</td>\n",
              "      <td>False</td>\n",
              "      <td>False</td>\n",
              "      <td>False</td>\n",
              "      <td>False</td>\n",
              "    </tr>\n",
              "  </tbody>\n",
              "</table>\n",
              "<p>261 rows × 8 columns</p>\n",
              "</div>"
            ],
            "text/plain": [
              "       mpg   cylinders   cubicinches  ...   time-to-60   year   brand\n",
              "0    False       False         False  ...        False  False   False\n",
              "1    False       False         False  ...        False  False   False\n",
              "2    False       False         False  ...        False  False   False\n",
              "3    False       False         False  ...        False  False   False\n",
              "4    False       False         False  ...        False  False   False\n",
              "..     ...         ...           ...  ...          ...    ...     ...\n",
              "256  False       False         False  ...        False  False   False\n",
              "257  False       False         False  ...        False  False   False\n",
              "258  False       False         False  ...        False  False   False\n",
              "259  False       False         False  ...        False  False   False\n",
              "260  False       False         False  ...        False  False   False\n",
              "\n",
              "[261 rows x 8 columns]"
            ]
          },
          "metadata": {
            "tags": []
          },
          "execution_count": 8
        }
      ]
    },
    {
      "cell_type": "code",
      "metadata": {
        "colab": {
          "base_uri": "https://localhost:8080/"
        },
        "id": "g8EPGblq3KvG",
        "outputId": "20a463e9-5d5a-4442-ccb3-14cb89c8500a"
      },
      "source": [
        "#Count for missing values\n",
        "dat.isna().sum()"
      ],
      "execution_count": 9,
      "outputs": [
        {
          "output_type": "execute_result",
          "data": {
            "text/plain": [
              "mpg             0\n",
              " cylinders      0\n",
              " cubicinches    0\n",
              " hp             0\n",
              " weightlbs      0\n",
              " time-to-60     0\n",
              " year           0\n",
              " brand          0\n",
              "dtype: int64"
            ]
          },
          "metadata": {
            "tags": []
          },
          "execution_count": 9
        }
      ]
    },
    {
      "cell_type": "markdown",
      "metadata": {
        "id": "sbp8MWB73OJ8"
      },
      "source": [
        "ii) Outlier point check"
      ]
    },
    {
      "cell_type": "code",
      "metadata": {
        "colab": {
          "base_uri": "https://localhost:8080/",
          "height": 297
        },
        "id": "0_MagDaL3RnW",
        "outputId": "1f39da1f-9d44-4071-d3df-688053ceee55"
      },
      "source": [
        "sns.boxplot(x=dat['mpg'])"
      ],
      "execution_count": 11,
      "outputs": [
        {
          "output_type": "execute_result",
          "data": {
            "text/plain": [
              "<matplotlib.axes._subplots.AxesSubplot at 0x7f6d84b621d0>"
            ]
          },
          "metadata": {
            "tags": []
          },
          "execution_count": 11
        },
        {
          "output_type": "display_data",
          "data": {
            "image/png": "[encoded data removed]",
            "text/plain": [
              "<Figure size 432x288 with 1 Axes>"
            ]
          },
          "metadata": {
            "tags": [],
            "needs_background": "light"
          }
        }
      ]
    },
    {
      "cell_type": "code",
      "metadata": {
        "colab": {
          "base_uri": "https://localhost:8080/",
          "height": 297
        },
        "id": "6edy6om55H5a",
        "outputId": "2fb2ed5a-2d9b-4b38-aa39-62f6bb31a17d"
      },
      "source": [
        "sns.boxplot(x=dat[' cylinders'])"
      ],
      "execution_count": 19,
      "outputs": [
        {
          "output_type": "execute_result",
          "data": {
            "text/plain": [
              "<matplotlib.axes._subplots.AxesSubplot at 0x7f6d845d2c88>"
            ]
          },
          "metadata": {
            "tags": []
          },
          "execution_count": 19
        },
        {
          "output_type": "display_data",
          "data": {
            "image/png": "[encoded data removed]",
            "text/plain": [
              "<Figure size 432x288 with 1 Axes>"
            ]
          },
          "metadata": {
            "tags": [],
            "needs_background": "light"
          }
        }
      ]
    },
    {
      "cell_type": "code",
      "metadata": {
        "colab": {
          "base_uri": "https://localhost:8080/",
          "height": 297
        },
        "id": "MQgMc_SE56gY",
        "outputId": "acdaa771-e51c-4be2-821f-ad33f62d4cd7"
      },
      "source": [
        "sns.boxplot(x=dat[' hp'])"
      ],
      "execution_count": 20,
      "outputs": [
        {
          "output_type": "execute_result",
          "data": {
            "text/plain": [
              "<matplotlib.axes._subplots.AxesSubplot at 0x7f6d845bba58>"
            ]
          },
          "metadata": {
            "tags": []
          },
          "execution_count": 20
        },
        {
          "output_type": "display_data",
          "data": {
            "image/png": "[encoded data removed]",
            "text/plain": [
              "<Figure size 432x288 with 1 Axes>"
            ]
          },
          "metadata": {
            "tags": [],
            "needs_background": "light"
          }
        }
      ]
    },
    {
      "cell_type": "markdown",
      "metadata": {
        "id": "3cZ5j8-r6N85"
      },
      "source": [
        "iii) Transforming the data set"
      ]
    },
    {
      "cell_type": "code",
      "metadata": {
        "colab": {
          "base_uri": "https://localhost:8080/"
        },
        "id": "dINNVt9s6PtX",
        "outputId": "ad6582c7-2bc2-4bd5-b298-f77261c73532"
      },
      "source": [
        "#Performing binning on the data\n",
        "data = dat['mpg']\n",
        "data = data[:30] #taking only first 30 data items\n",
        "data=np.sort(data)\n",
        "print('Data:')\n",
        "print(data)\n",
        "print('')\n",
        "\n",
        "#create three different matrices having 10 rows and 3 columns\n",
        "b1=np.zeros((10,3)) \n",
        "b2=np.zeros((10,3)) \n",
        "b3=np.zeros((10,3)) \n",
        "\n",
        "#binning by mean\n",
        "for i in range (0,30,3): \n",
        "  k=int(i/3) \n",
        "  mean=(data[i] + data[i+1] + data[i+2] )/3\n",
        "  for j in range(3): \n",
        "    b1[k,j]=mean \n",
        "print(\"----Binning by mean:---- \\n\",b1)\n",
        "print('')\n",
        "\n",
        "#binning by median\n",
        "for i in range (0,30,3): \n",
        "  k=int(i/3) \n",
        "  for j in range (3): \n",
        "    b2[k,j]=data[i+1] \n",
        "print(\"----Binning by median:---- \\n\",b2)\n",
        "print('')\n",
        "\n",
        "#binning by boundary\n",
        "for i in range (0,30,3): \n",
        "  k=int(i/3) \n",
        "  for j in range (3): \n",
        "    if (data[i+j]-data[i]) < (data[i+2]-data[i+j]): \n",
        "      b3[k,j]=data[i] \n",
        "    else: \n",
        "      b3[k,j]=data[i+2]   \n",
        "print(\"----Binning by boundary:----\\n\",b3)"
      ],
      "execution_count": 21,
      "outputs": [
        {
          "output_type": "stream",
          "text": [
            "Data:\n",
            "[11.  13.  14.  14.  14.  15.  15.5 16.  16.  16.9 17.  18.  19.1 21.5\n",
            " 23.  24.  24.  24.  25.4 29.9 30.5 31.  31.8 31.9 33.  34.  34.3 37.2\n",
            " 37.7 38.1]\n",
            "\n",
            "----Binning by mean:---- \n",
            " [[12.66666667 12.66666667 12.66666667]\n",
            " [14.33333333 14.33333333 14.33333333]\n",
            " [15.83333333 15.83333333 15.83333333]\n",
            " [17.3        17.3        17.3       ]\n",
            " [21.2        21.2        21.2       ]\n",
            " [24.         24.         24.        ]\n",
            " [28.6        28.6        28.6       ]\n",
            " [31.56666667 31.56666667 31.56666667]\n",
            " [33.76666667 33.76666667 33.76666667]\n",
            " [37.66666667 37.66666667 37.66666667]]\n",
            "\n",
            "----Binning by median:---- \n",
            " [[13.  13.  13. ]\n",
            " [14.  14.  14. ]\n",
            " [16.  16.  16. ]\n",
            " [17.  17.  17. ]\n",
            " [21.5 21.5 21.5]\n",
            " [24.  24.  24. ]\n",
            " [29.9 29.9 29.9]\n",
            " [31.8 31.8 31.8]\n",
            " [34.  34.  34. ]\n",
            " [37.7 37.7 37.7]]\n",
            "\n",
            "----Binning by boundary:----\n",
            " [[11.  14.  14. ]\n",
            " [14.  14.  15. ]\n",
            " [15.5 16.  16. ]\n",
            " [16.9 16.9 18. ]\n",
            " [19.1 23.  23. ]\n",
            " [24.  24.  24. ]\n",
            " [25.4 30.5 30.5]\n",
            " [31.  31.9 31.9]\n",
            " [33.  34.3 34.3]\n",
            " [37.2 38.1 38.1]]\n"
          ],
          "name": "stdout"
        }
      ]
    },
    {
      "cell_type": "markdown",
      "metadata": {
        "id": "Zm4kjzRA6bPz"
      },
      "source": [
        "Min-Max normalization:"
      ]
    },
    {
      "cell_type": "code",
      "metadata": {
        "colab": {
          "base_uri": "https://localhost:8080/"
        },
        "id": "Oap9NgEL6cXQ",
        "outputId": "79c8d046-409f-4a76-c821-a142cd7e830b"
      },
      "source": [
        "import statistics\n",
        "from sklearn import preprocessing\n",
        "\n",
        "#min-max normalization\n",
        "def minMaxNor(num,list):\n",
        "    minNum=int(input(\"Enter Minimun Setting:\\t\"))\n",
        "    maxNum = int(input(\"Enter Maximum Setting:\\t\"))\n",
        "    ans=round(((num-min(list))/(max(list)-min(list))*(maxNum-minNum))+minNum,2)\n",
        "    return ans\n",
        "dat = pd.read_csv(\"cars.csv\")\n",
        "data = dat['mpg']\n",
        "data = data[:10] #taking only first 10 data items\n",
        "data=np.sort(data)\n",
        "print(data)\n",
        "\n",
        "#z-score normalization\n",
        "def zNor (num,mean,stdDv):\n",
        "    return round((num-mean)/stdDv,2)\n",
        "\n",
        "#modified z-score normalization\n",
        "def zNorMAD (num,mean,abMeanDiv):\n",
        "    return round((num-mean)/abMeanDiv,2)\n",
        "\n",
        "#decimal-scaling normalization\n",
        "def decNor(num,maxNum):\n",
        "    digit=len(str(maxNum))\n",
        "    div=pow(10,digit)\n",
        "    return num/div\n",
        "\n",
        "num=int(input(\"Enter an item from data : \\t\"))\n",
        "if num in data:\n",
        "  print(\"Calculating  min-max normalization\")\n",
        "  print(\"After doing min-max normalization :\",minMaxNor(num,data))\n",
        "  print(\"\\nCalculating z-score normalization\")\n",
        "  print(\"After doing z-score normalization : \\t\", zNor(num,statistics.mean(data),statistics.stdev(data)))\n",
        "  print(\"\\nCalculating Modified z-score normalization\")\n",
        "  dat = pd.DataFrame(data)\n",
        "  print(\"After doing Modified z-score normalization : \\t\", zNorMAD(num,statistics.mean(data),dat.mad()))\n",
        "  print(\"\\nCalculating decimal scaling normalization\")\n",
        "  print(\"After doing decimal scaling normalization : \\t\", decNor(num,max(data)))\n",
        "else:\n",
        "  print(\"Item entered is not present!!\")\n",
        "  print(\"Can't perform normalization on the selected item!\")"
      ],
      "execution_count": 23,
      "outputs": [
        {
          "output_type": "stream",
          "text": [
            "[13.  14.  14.  15.  17.  23.  25.4 30.5 31.9 37.7]\n",
            "Enter an item from data : \t15\n",
            "Calculating  min-max normalization\n",
            "Enter Minimun Setting:\t0\n",
            "Enter Maximum Setting:\t1\n",
            "After doing min-max normalization : 0.08\n",
            "\n",
            "Calculating z-score normalization\n",
            "After doing z-score normalization : \t -0.8\n",
            "\n",
            "Calculating Modified z-score normalization\n",
            "After doing Modified z-score normalization : \t 0   -0.95\n",
            "dtype: float64\n",
            "\n",
            "Calculating decimal scaling normalization\n",
            "After doing decimal scaling normalization : \t 0.0015\n"
          ],
          "name": "stdout"
        }
      ]
    },
    {
      "cell_type": "markdown",
      "metadata": {
        "id": "7WsfpMkf9y6m"
      },
      "source": [
        "5) Performing data visualization"
      ]
    },
    {
      "cell_type": "code",
      "metadata": {
        "colab": {
          "base_uri": "https://localhost:8080/",
          "height": 283
        },
        "id": "C0qvMjcw91aC",
        "outputId": "87408d3b-368b-4978-a775-c4271c1bf912"
      },
      "source": [
        "x = np.linspace(0,10,50)\n",
        "plt.plot(x, np.sin(x))\n",
        "plt.plot(x, np.cos(x))"
      ],
      "execution_count": 24,
      "outputs": [
        {
          "output_type": "execute_result",
          "data": {
            "text/plain": [
              "[<matplotlib.lines.Line2D at 0x7f6d834f7160>]"
            ]
          },
          "metadata": {
            "tags": []
          },
          "execution_count": 24
        },
        {
          "output_type": "display_data",
          "data": {
            "image/png": "[encoded data removed]",
            "text/plain": [
              "<Figure size 432x288 with 1 Axes>"
            ]
          },
          "metadata": {
            "tags": [],
            "needs_background": "light"
          }
        }
      ]
    },
    {
      "cell_type": "code",
      "metadata": {
        "colab": {
          "base_uri": "https://localhost:8080/",
          "height": 716
        },
        "id": "JjESwlgM95nK",
        "outputId": "d9195b24-5909-43d7-bf7d-9bacd5ee4a06"
      },
      "source": [
        "dat.hist(figsize=(12,12), bins=20)\n",
        "plt.show()"
      ],
      "execution_count": 25,
      "outputs": [
        {
          "output_type": "display_data",
          "data": {
            "image/png": "[encoded data removed]",
            "text/plain": [
              "<Figure size 864x864 with 1 Axes>"
            ]
          },
          "metadata": {
            "tags": [],
            "needs_background": "light"
          }
        }
      ]
    }
  ]
}